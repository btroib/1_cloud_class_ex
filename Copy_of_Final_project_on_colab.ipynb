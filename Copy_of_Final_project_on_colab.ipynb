{
  "nbformat": 4,
  "nbformat_minor": 0,
  "metadata": {
    "kernelspec": {
      "display_name": "Python 3",
      "language": "python",
      "name": "python3"
    },
    "language_info": {
      "codemirror_mode": {
        "name": "ipython",
        "version": 3
      },
      "file_extension": ".py",
      "mimetype": "text/x-python",
      "name": "python",
      "nbconvert_exporter": "python",
      "pygments_lexer": "ipython3",
      "version": "3.8.5"
    },
    "toc": {
      "base_numbering": 1,
      "nav_menu": {},
      "number_sections": true,
      "sideBar": true,
      "skip_h1_title": false,
      "title_cell": "Table of Contents",
      "title_sidebar": "Contents",
      "toc_cell": false,
      "toc_position": {},
      "toc_section_display": true,
      "toc_window_display": false
    },
    "varInspector": {
      "cols": {
        "lenName": 16,
        "lenType": 16,
        "lenVar": 40
      },
      "kernels_config": {
        "python": {
          "delete_cmd_postfix": "",
          "delete_cmd_prefix": "del ",
          "library": "var_list.py",
          "varRefreshCmd": "print(var_dic_list())"
        },
        "r": {
          "delete_cmd_postfix": ") ",
          "delete_cmd_prefix": "rm(",
          "library": "var_list.r",
          "varRefreshCmd": "cat(var_dic_list()) "
        }
      },
      "types_to_exclude": [
        "module",
        "function",
        "builtin_function_or_method",
        "instance",
        "_Feature"
      ],
      "window_display": false
    },
    "colab": {
      "name": "Copy of Final_project_on_colab.ipynb",
      "provenance": [],
      "collapsed_sections": [
        "V8-9cs595ihp",
        "_3KGYm-O5ihr",
        "wK3i-VuP5ihw",
        "qoPYYCd85ihw"
      ],
      "include_colab_link": true
    },
    "accelerator": "GPU"
  },
  "cells": [
    {
      "cell_type": "markdown",
      "metadata": {
        "id": "view-in-github",
        "colab_type": "text"
      },
      "source": [
        "<a href=\"https://colab.research.google.com/github/btroib/1_cloud_class_ex/blob/main/Copy_of_Final_project_on_colab.ipynb\" target=\"_parent\"><img src=\"https://colab.research.google.com/assets/colab-badge.svg\" alt=\"Open In Colab\"/></a>"
      ]
    },
    {
      "cell_type": "markdown",
      "metadata": {
        "id": "FZwtpabr5ihh"
      },
      "source": [
        "# 0. Intro"
      ]
    },
    {
      "cell_type": "markdown",
      "metadata": {
        "id": "rqByhv4f5ihi"
      },
      "source": [
        "** Team Number One ** "
      ]
    },
    {
      "cell_type": "code",
      "metadata": {
        "colab": {
          "base_uri": "https://localhost:8080/"
        },
        "id": "EbJxV43_5joq",
        "outputId": "0ec0502d-ed37-4045-bef1-a657f41edd09"
      },
      "source": [
        "!git clone https://github.com/btroib/Final_DS_Project.git"
      ],
      "execution_count": null,
      "outputs": [
        {
          "output_type": "stream",
          "text": [
            "Cloning into 'Final_DS_Project'...\n",
            "remote: Enumerating objects: 5621, done.\u001b[K\n",
            "remote: Counting objects: 100% (5621/5621), done.\u001b[K\n",
            "remote: Compressing objects: 100% (5294/5294), done.\u001b[K\n",
            "remote: Total 5621 (delta 341), reused 5596 (delta 325), pack-reused 0\u001b[K\n",
            "Receiving objects: 100% (5621/5621), 89.27 MiB | 25.74 MiB/s, done.\n",
            "Resolving deltas: 100% (341/341), done.\n"
          ],
          "name": "stdout"
        }
      ]
    },
    {
      "cell_type": "code",
      "metadata": {
        "colab": {
          "base_uri": "https://localhost:8080/"
        },
        "id": "U_AUZ-2G56RC",
        "outputId": "f061742b-d1fe-4fa9-de78-5198b2bf7c8e"
      },
      "source": [
        "import tensorflow as tf\n",
        "tf.config.list_physical_devices('GPU')"
      ],
      "execution_count": null,
      "outputs": [
        {
          "output_type": "execute_result",
          "data": {
            "text/plain": [
              "[PhysicalDevice(name='/physical_device:GPU:0', device_type='GPU')]"
            ]
          },
          "metadata": {
            "tags": []
          },
          "execution_count": 2
        }
      ]
    },
    {
      "cell_type": "markdown",
      "metadata": {
        "id": "k_TC2Mcg5ihi"
      },
      "source": [
        "Work split: \n",
        "- Brian Troib: git set up + data discovery and set up+ first notebook + work on the EDA\n",
        "- Dan Oren: approach + work on modeling (model running).\n",
        "- Michael Ben Mergui: work on modeling + report modeling + report Next steps.\n",
        "- Roy Fassler: work on EDA plots + EDA report."
      ]
    },
    {
      "cell_type": "markdown",
      "metadata": {
        "id": "gEF2c1Ck5ihj"
      },
      "source": [
        "# 1. EDA"
      ]
    },
    {
      "cell_type": "code",
      "metadata": {
        "ExecuteTime": {
          "end_time": "2021-05-06T17:19:46.627365Z",
          "start_time": "2021-05-06T17:19:45.195679Z"
        },
        "id": "RJy_9AIO5ihj"
      },
      "source": [
        "import os\n",
        "import pandas as pd\n",
        "import seaborn as sns\n",
        "import numpy as np\n",
        "import matplotlib.pyplot as plt\n",
        "import cv2\n",
        "from PIL import Image\n",
        "from matplotlib import image\n",
        "from matplotlib import pyplot\n",
        "from matplotlib.pyplot import imread"
      ],
      "execution_count": null,
      "outputs": []
    },
    {
      "cell_type": "code",
      "metadata": {
        "ExecuteTime": {
          "end_time": "2021-05-06T17:19:46.636804Z",
          "start_time": "2021-05-06T17:19:46.629756Z"
        },
        "id": "9LtZ-HHD5ihj"
      },
      "source": [
        "def check_missing(dataframe):\n",
        "    if len(dataframe.columns[dataframe.isnull().any()]) == 0:\n",
        "        print('There are no missing values.')\n",
        "    else:\n",
        "        print('Column Name', ' ', 'Number of Missing Values', ' ', 'Percentage of Total')\n",
        "        for index, value in dataframe.isnull().sum().items():\n",
        "            if value>0:\n",
        "                print(index, ' '*(23-len(index)), value, ' '*(18-len(str(value))),'  ', \n",
        "                      round(value*100/len(dataframe), 2), \"%\")\n",
        "                \n",
        "def check_eda(dataframe):\n",
        "    print('Preview of data: ')\n",
        "    display(dataframe.head(3))\n",
        "    print('\\n', '-'*50, '\\n')\n",
        "    find_shape(dataframe)\n",
        "    print('\\n', '-'*50)\n",
        "    print('\\n Total number of rows, column types and null values:\\n')\n",
        "    print(dataframe.info())\n",
        "    \n",
        "def find_shape(dataframe):\n",
        "    print('Rows:', dataframe.shape[0])\n",
        "    print('Columns:', dataframe.shape[1])\n",
        "    \n",
        "def check_integrity(dataframe):\n",
        "    print('Checking for duplicated rows...')\n",
        "    print('\\nNumber of duplicated rows: ', dataframe[dataframe.duplicated()].shape[0])\n",
        "    if (dataframe[dataframe.duplicated()].shape[0]) > 0:\n",
        "        print('\\nDropping duplicates...')\n",
        "        dataframe.drop_duplicates(inplace=True)\n",
        "        print('\\nDropped.')\n",
        "    print('\\nChecking min, max, mean and STD of numerical features to see if any values are illogical.')\n",
        "    display(dataframe.describe(include='all').transpose())\n",
        "    print('\\nCounting the unique values of non numerical features (including missing values):\\n')\n",
        "    for col in dataframe.select_dtypes(include='object').columns:\n",
        "        print('Count of: ', col)\n",
        "        print(dataframe[col].value_counts(dropna=False), '\\n')"
      ],
      "execution_count": null,
      "outputs": []
    },
    {
      "cell_type": "markdown",
      "metadata": {
        "id": "R0alx_Is5ihk"
      },
      "source": [
        "#### We will start with reading the files hemorrhage_diagnosis.csv and patient_demographics.csv. The first file contains the labels (hemorrhage type, fracture) for each slice and for each patient and the second file contains information related to the patient such as patient age and gender."
      ]
    },
    {
      "cell_type": "code",
      "metadata": {
        "ExecuteTime": {
          "end_time": "2021-05-06T17:19:46.649996Z",
          "start_time": "2021-05-06T17:19:46.640648Z"
        },
        "id": "koURYkAD5ihk"
      },
      "source": [
        "df_hemorrhage = pd.read_csv('Final_DS_Project/hemorrhage_diagnosis.csv')\n",
        "df_patient = pd.read_csv('Final_DS_Project/patient_demographics.csv')"
      ],
      "execution_count": null,
      "outputs": []
    },
    {
      "cell_type": "markdown",
      "metadata": {
        "id": "W-JQ1JUA5ihl"
      },
      "source": [
        "We'll take a look at the header of the dataframes to check that all the names of the columns and the values are aligned."
      ]
    },
    {
      "cell_type": "code",
      "metadata": {
        "ExecuteTime": {
          "end_time": "2021-05-06T17:19:46.663296Z",
          "start_time": "2021-05-06T17:19:46.651526Z"
        },
        "colab": {
          "base_uri": "https://localhost:8080/",
          "height": 204
        },
        "id": "xNe1fkKQ5ihl",
        "outputId": "11a87c5a-94db-448e-a30a-79eb72d4850c"
      },
      "source": [
        "df_hemorrhage.head()"
      ],
      "execution_count": null,
      "outputs": [
        {
          "output_type": "execute_result",
          "data": {
            "text/html": [
              "<div>\n",
              "<style scoped>\n",
              "    .dataframe tbody tr th:only-of-type {\n",
              "        vertical-align: middle;\n",
              "    }\n",
              "\n",
              "    .dataframe tbody tr th {\n",
              "        vertical-align: top;\n",
              "    }\n",
              "\n",
              "    .dataframe thead th {\n",
              "        text-align: right;\n",
              "    }\n",
              "</style>\n",
              "<table border=\"1\" class=\"dataframe\">\n",
              "  <thead>\n",
              "    <tr style=\"text-align: right;\">\n",
              "      <th></th>\n",
              "      <th>PatientNumber</th>\n",
              "      <th>SliceNumber</th>\n",
              "      <th>Intraventricular</th>\n",
              "      <th>Intraparenchymal</th>\n",
              "      <th>Subarachnoid</th>\n",
              "      <th>Epidural</th>\n",
              "      <th>Subdural</th>\n",
              "      <th>No_Hemorrhage</th>\n",
              "      <th>Fracture_Yes_No</th>\n",
              "    </tr>\n",
              "  </thead>\n",
              "  <tbody>\n",
              "    <tr>\n",
              "      <th>0</th>\n",
              "      <td>49</td>\n",
              "      <td>1</td>\n",
              "      <td>0</td>\n",
              "      <td>0</td>\n",
              "      <td>0</td>\n",
              "      <td>0</td>\n",
              "      <td>0</td>\n",
              "      <td>1</td>\n",
              "      <td>0</td>\n",
              "    </tr>\n",
              "    <tr>\n",
              "      <th>1</th>\n",
              "      <td>49</td>\n",
              "      <td>2</td>\n",
              "      <td>0</td>\n",
              "      <td>0</td>\n",
              "      <td>0</td>\n",
              "      <td>0</td>\n",
              "      <td>0</td>\n",
              "      <td>1</td>\n",
              "      <td>0</td>\n",
              "    </tr>\n",
              "    <tr>\n",
              "      <th>2</th>\n",
              "      <td>49</td>\n",
              "      <td>3</td>\n",
              "      <td>0</td>\n",
              "      <td>0</td>\n",
              "      <td>0</td>\n",
              "      <td>0</td>\n",
              "      <td>0</td>\n",
              "      <td>1</td>\n",
              "      <td>0</td>\n",
              "    </tr>\n",
              "    <tr>\n",
              "      <th>3</th>\n",
              "      <td>49</td>\n",
              "      <td>4</td>\n",
              "      <td>0</td>\n",
              "      <td>0</td>\n",
              "      <td>0</td>\n",
              "      <td>0</td>\n",
              "      <td>0</td>\n",
              "      <td>1</td>\n",
              "      <td>0</td>\n",
              "    </tr>\n",
              "    <tr>\n",
              "      <th>4</th>\n",
              "      <td>49</td>\n",
              "      <td>5</td>\n",
              "      <td>0</td>\n",
              "      <td>0</td>\n",
              "      <td>0</td>\n",
              "      <td>0</td>\n",
              "      <td>0</td>\n",
              "      <td>1</td>\n",
              "      <td>0</td>\n",
              "    </tr>\n",
              "  </tbody>\n",
              "</table>\n",
              "</div>"
            ],
            "text/plain": [
              "   PatientNumber  SliceNumber  ...  No_Hemorrhage  Fracture_Yes_No\n",
              "0             49            1  ...              1                0\n",
              "1             49            2  ...              1                0\n",
              "2             49            3  ...              1                0\n",
              "3             49            4  ...              1                0\n",
              "4             49            5  ...              1                0\n",
              "\n",
              "[5 rows x 9 columns]"
            ]
          },
          "metadata": {
            "tags": []
          },
          "execution_count": 6
        }
      ]
    },
    {
      "cell_type": "code",
      "metadata": {
        "ExecuteTime": {
          "end_time": "2021-05-06T17:19:46.676338Z",
          "start_time": "2021-05-06T17:19:46.665039Z"
        },
        "colab": {
          "base_uri": "https://localhost:8080/",
          "height": 255
        },
        "id": "slX2ReAk5ihl",
        "outputId": "ea0cbd38-d369-40bc-ab51-634d14701781"
      },
      "source": [
        "df_patient.head()"
      ],
      "execution_count": null,
      "outputs": [
        {
          "output_type": "execute_result",
          "data": {
            "text/html": [
              "<div>\n",
              "<style scoped>\n",
              "    .dataframe tbody tr th:only-of-type {\n",
              "        vertical-align: middle;\n",
              "    }\n",
              "\n",
              "    .dataframe tbody tr th {\n",
              "        vertical-align: top;\n",
              "    }\n",
              "\n",
              "    .dataframe thead th {\n",
              "        text-align: right;\n",
              "    }\n",
              "</style>\n",
              "<table border=\"1\" class=\"dataframe\">\n",
              "  <thead>\n",
              "    <tr style=\"text-align: right;\">\n",
              "      <th></th>\n",
              "      <th>Patient Number</th>\n",
              "      <th>Age\\n(years)</th>\n",
              "      <th>Gender</th>\n",
              "      <th>Intraventricular</th>\n",
              "      <th>Intraparenchymal</th>\n",
              "      <th>Subarachnoid</th>\n",
              "      <th>Epidural</th>\n",
              "      <th>Subdural</th>\n",
              "      <th>Fracture (Yes/No)</th>\n",
              "      <th>Condition on file</th>\n",
              "      <th>Note</th>\n",
              "    </tr>\n",
              "  </thead>\n",
              "  <tbody>\n",
              "    <tr>\n",
              "      <th>0</th>\n",
              "      <td>49</td>\n",
              "      <td>35.000000</td>\n",
              "      <td>Male</td>\n",
              "      <td>NaN</td>\n",
              "      <td>1.0</td>\n",
              "      <td>NaN</td>\n",
              "      <td>1.0</td>\n",
              "      <td>NaN</td>\n",
              "      <td>1.0</td>\n",
              "      <td>Intracranial HGE+ Extradural HGE</td>\n",
              "      <td>NaN</td>\n",
              "    </tr>\n",
              "    <tr>\n",
              "      <th>1</th>\n",
              "      <td>50</td>\n",
              "      <td>0.583333</td>\n",
              "      <td>Female</td>\n",
              "      <td>NaN</td>\n",
              "      <td>1.0</td>\n",
              "      <td>NaN</td>\n",
              "      <td>NaN</td>\n",
              "      <td>NaN</td>\n",
              "      <td>1.0</td>\n",
              "      <td>Subdural HGE</td>\n",
              "      <td>NaN</td>\n",
              "    </tr>\n",
              "    <tr>\n",
              "      <th>2</th>\n",
              "      <td>51</td>\n",
              "      <td>5.000000</td>\n",
              "      <td>Male</td>\n",
              "      <td>NaN</td>\n",
              "      <td>1.0</td>\n",
              "      <td>NaN</td>\n",
              "      <td>NaN</td>\n",
              "      <td>1.0</td>\n",
              "      <td>1.0</td>\n",
              "      <td>Extadural HGE</td>\n",
              "      <td>NaN</td>\n",
              "    </tr>\n",
              "    <tr>\n",
              "      <th>3</th>\n",
              "      <td>52</td>\n",
              "      <td>8.000000</td>\n",
              "      <td>Male</td>\n",
              "      <td>NaN</td>\n",
              "      <td>NaN</td>\n",
              "      <td>NaN</td>\n",
              "      <td>1.0</td>\n",
              "      <td>NaN</td>\n",
              "      <td>1.0</td>\n",
              "      <td>Extadural HGE</td>\n",
              "      <td>NaN</td>\n",
              "    </tr>\n",
              "    <tr>\n",
              "      <th>4</th>\n",
              "      <td>53</td>\n",
              "      <td>44.000000</td>\n",
              "      <td>Male</td>\n",
              "      <td>NaN</td>\n",
              "      <td>1.0</td>\n",
              "      <td>NaN</td>\n",
              "      <td>1.0</td>\n",
              "      <td>NaN</td>\n",
              "      <td>1.0</td>\n",
              "      <td>Intracranial HGE+ Extradural HGE</td>\n",
              "      <td>NaN</td>\n",
              "    </tr>\n",
              "  </tbody>\n",
              "</table>\n",
              "</div>"
            ],
            "text/plain": [
              "   Patient Number  Age\\n(years)  ...                  Condition on file  Note\n",
              "0              49     35.000000  ...  Intracranial HGE+ Extradural HGE    NaN\n",
              "1              50      0.583333  ...                      Subdural HGE    NaN\n",
              "2              51      5.000000  ...                     Extadural HGE    NaN\n",
              "3              52      8.000000  ...                     Extadural HGE    NaN\n",
              "4              53     44.000000  ...  Intracranial HGE+ Extradural HGE    NaN\n",
              "\n",
              "[5 rows x 11 columns]"
            ]
          },
          "metadata": {
            "tags": []
          },
          "execution_count": 7
        }
      ]
    },
    {
      "cell_type": "markdown",
      "metadata": {
        "id": "3IRgXSAO5ihm"
      },
      "source": [
        "It is also necessary to know the dimensions of the data."
      ]
    },
    {
      "cell_type": "code",
      "metadata": {
        "ExecuteTime": {
          "end_time": "2021-05-06T17:19:46.682343Z",
          "start_time": "2021-05-06T17:19:46.679528Z"
        },
        "colab": {
          "base_uri": "https://localhost:8080/"
        },
        "id": "8fWstBDu5ihm",
        "outputId": "f3c78405-600c-44d1-b62b-ad11627f0041"
      },
      "source": [
        "rows, columns = df_hemorrhage.shape\n",
        "print(f\"The dataset hemorrhage contains {rows} rows and {columns} columns\")\n",
        "rows, columns = df_patient.shape\n",
        "print(f\"The dataset patient contains {rows} rows and {columns} columns\")"
      ],
      "execution_count": null,
      "outputs": [
        {
          "output_type": "stream",
          "text": [
            "The dataset hemorrhage contains 2501 rows and 9 columns\n",
            "The dataset patient contains 82 rows and 11 columns\n"
          ],
          "name": "stdout"
        }
      ]
    },
    {
      "cell_type": "code",
      "metadata": {
        "ExecuteTime": {
          "end_time": "2021-05-06T17:19:46.687432Z",
          "start_time": "2021-05-06T17:19:46.685079Z"
        },
        "id": "k4yRLP855ihm"
      },
      "source": [
        "assert df_patient[\"Patient Number\"].is_unique"
      ],
      "execution_count": null,
      "outputs": []
    },
    {
      "cell_type": "code",
      "metadata": {
        "ExecuteTime": {
          "end_time": "2021-05-06T17:19:46.692879Z",
          "start_time": "2021-05-06T17:19:46.688771Z"
        },
        "colab": {
          "base_uri": "https://localhost:8080/"
        },
        "id": "LDSR5KrW5ihn",
        "outputId": "4dc57471-32e5-43d0-8b51-90253f5e7623"
      },
      "source": [
        "df_hemorrhage.groupby(\"PatientNumber\").size().mean()"
      ],
      "execution_count": null,
      "outputs": [
        {
          "output_type": "execute_result",
          "data": {
            "text/plain": [
              "30.5"
            ]
          },
          "metadata": {
            "tags": []
          },
          "execution_count": 10
        }
      ]
    },
    {
      "cell_type": "markdown",
      "metadata": {
        "id": "V4b8V7CO5ihn"
      },
      "source": [
        "We can see that the data set contains the information of 82 patients and of each one we have the information of certain demographics such as age and gender. Also, in the hemorrhage diagnosis dataset we can see that on average each patient has 30.5 thomography slices. \n",
        "\n",
        "Next we are going to load the thomography slices."
      ]
    },
    {
      "cell_type": "code",
      "metadata": {
        "ExecuteTime": {
          "end_time": "2021-05-06T17:23:53.680701Z",
          "start_time": "2021-05-06T17:19:46.694192Z"
        },
        "scrolled": true,
        "id": "56Du7_Ni5ihn"
      },
      "source": [
        "IMAGES_DIRECTORY = 'Final_DS_Project/computed-tomography-images-for-intracranial-hemorrhage-detection-and-segmentation-1.0.0/Patients_CT'\n",
        "patient = {}\n",
        "for paitent_folder in os.listdir(IMAGES_DIRECTORY):\n",
        "    patient_brain_folder = IMAGES_DIRECTORY+\"/\"+paitent_folder+\"/brain\"\n",
        "    for image_name in os.listdir(patient_brain_folder):\n",
        "        if len(image_name[:-4]) > 2 :\n",
        "          continue\n",
        "        img = cv2.imread(patient_brain_folder+\"/\"+image_name, cv2.IMREAD_GRAYSCALE).flatten()\n",
        "        patient[f'{paitent_folder}-{image_name[:-4]}'] = img\n",
        "\n"
      ],
      "execution_count": null,
      "outputs": []
    },
    {
      "cell_type": "markdown",
      "metadata": {
        "id": "3lJL54vA5iho"
      },
      "source": [
        "Next we are going to transform the dictionary patient to a dataframe df_brain."
      ]
    },
    {
      "cell_type": "code",
      "metadata": {
        "ExecuteTime": {
          "end_time": "2021-05-06T17:27:26.885274Z",
          "start_time": "2021-05-06T17:23:53.691855Z"
        },
        "id": "MBPmj9at5iho"
      },
      "source": [
        "df_brain = pd.DataFrame(patient)\n",
        "df_brain = df_brain.transpose()"
      ],
      "execution_count": null,
      "outputs": []
    },
    {
      "cell_type": "code",
      "metadata": {
        "ExecuteTime": {
          "end_time": "2021-05-06T17:27:26.941532Z",
          "start_time": "2021-05-06T17:27:26.892962Z"
        },
        "colab": {
          "base_uri": "https://localhost:8080/",
          "height": 338
        },
        "id": "-gU_Q9Kd5iho",
        "outputId": "cc6d2efc-25e6-4544-8eab-159568922a22"
      },
      "source": [
        "df_brain.head()"
      ],
      "execution_count": null,
      "outputs": [
        {
          "output_type": "execute_result",
          "data": {
            "text/html": [
              "<div>\n",
              "<style scoped>\n",
              "    .dataframe tbody tr th:only-of-type {\n",
              "        vertical-align: middle;\n",
              "    }\n",
              "\n",
              "    .dataframe tbody tr th {\n",
              "        vertical-align: top;\n",
              "    }\n",
              "\n",
              "    .dataframe thead th {\n",
              "        text-align: right;\n",
              "    }\n",
              "</style>\n",
              "<table border=\"1\" class=\"dataframe\">\n",
              "  <thead>\n",
              "    <tr style=\"text-align: right;\">\n",
              "      <th></th>\n",
              "      <th>0</th>\n",
              "      <th>1</th>\n",
              "      <th>2</th>\n",
              "      <th>3</th>\n",
              "      <th>4</th>\n",
              "      <th>5</th>\n",
              "      <th>6</th>\n",
              "      <th>7</th>\n",
              "      <th>8</th>\n",
              "      <th>9</th>\n",
              "      <th>10</th>\n",
              "      <th>11</th>\n",
              "      <th>12</th>\n",
              "      <th>13</th>\n",
              "      <th>14</th>\n",
              "      <th>15</th>\n",
              "      <th>16</th>\n",
              "      <th>17</th>\n",
              "      <th>18</th>\n",
              "      <th>19</th>\n",
              "      <th>20</th>\n",
              "      <th>21</th>\n",
              "      <th>22</th>\n",
              "      <th>23</th>\n",
              "      <th>24</th>\n",
              "      <th>25</th>\n",
              "      <th>26</th>\n",
              "      <th>27</th>\n",
              "      <th>28</th>\n",
              "      <th>29</th>\n",
              "      <th>30</th>\n",
              "      <th>31</th>\n",
              "      <th>32</th>\n",
              "      <th>33</th>\n",
              "      <th>34</th>\n",
              "      <th>35</th>\n",
              "      <th>36</th>\n",
              "      <th>37</th>\n",
              "      <th>38</th>\n",
              "      <th>39</th>\n",
              "      <th>...</th>\n",
              "      <th>422460</th>\n",
              "      <th>422461</th>\n",
              "      <th>422462</th>\n",
              "      <th>422463</th>\n",
              "      <th>422464</th>\n",
              "      <th>422465</th>\n",
              "      <th>422466</th>\n",
              "      <th>422467</th>\n",
              "      <th>422468</th>\n",
              "      <th>422469</th>\n",
              "      <th>422470</th>\n",
              "      <th>422471</th>\n",
              "      <th>422472</th>\n",
              "      <th>422473</th>\n",
              "      <th>422474</th>\n",
              "      <th>422475</th>\n",
              "      <th>422476</th>\n",
              "      <th>422477</th>\n",
              "      <th>422478</th>\n",
              "      <th>422479</th>\n",
              "      <th>422480</th>\n",
              "      <th>422481</th>\n",
              "      <th>422482</th>\n",
              "      <th>422483</th>\n",
              "      <th>422484</th>\n",
              "      <th>422485</th>\n",
              "      <th>422486</th>\n",
              "      <th>422487</th>\n",
              "      <th>422488</th>\n",
              "      <th>422489</th>\n",
              "      <th>422490</th>\n",
              "      <th>422491</th>\n",
              "      <th>422492</th>\n",
              "      <th>422493</th>\n",
              "      <th>422494</th>\n",
              "      <th>422495</th>\n",
              "      <th>422496</th>\n",
              "      <th>422497</th>\n",
              "      <th>422498</th>\n",
              "      <th>422499</th>\n",
              "    </tr>\n",
              "  </thead>\n",
              "  <tbody>\n",
              "    <tr>\n",
              "      <th>077-7</th>\n",
              "      <td>0</td>\n",
              "      <td>0</td>\n",
              "      <td>0</td>\n",
              "      <td>0</td>\n",
              "      <td>0</td>\n",
              "      <td>0</td>\n",
              "      <td>0</td>\n",
              "      <td>0</td>\n",
              "      <td>0</td>\n",
              "      <td>0</td>\n",
              "      <td>0</td>\n",
              "      <td>0</td>\n",
              "      <td>0</td>\n",
              "      <td>0</td>\n",
              "      <td>0</td>\n",
              "      <td>0</td>\n",
              "      <td>0</td>\n",
              "      <td>0</td>\n",
              "      <td>0</td>\n",
              "      <td>0</td>\n",
              "      <td>0</td>\n",
              "      <td>0</td>\n",
              "      <td>0</td>\n",
              "      <td>0</td>\n",
              "      <td>0</td>\n",
              "      <td>0</td>\n",
              "      <td>0</td>\n",
              "      <td>0</td>\n",
              "      <td>0</td>\n",
              "      <td>0</td>\n",
              "      <td>0</td>\n",
              "      <td>0</td>\n",
              "      <td>0</td>\n",
              "      <td>0</td>\n",
              "      <td>0</td>\n",
              "      <td>0</td>\n",
              "      <td>0</td>\n",
              "      <td>0</td>\n",
              "      <td>0</td>\n",
              "      <td>0</td>\n",
              "      <td>...</td>\n",
              "      <td>0</td>\n",
              "      <td>0</td>\n",
              "      <td>0</td>\n",
              "      <td>0</td>\n",
              "      <td>0</td>\n",
              "      <td>0</td>\n",
              "      <td>0</td>\n",
              "      <td>0</td>\n",
              "      <td>0</td>\n",
              "      <td>0</td>\n",
              "      <td>0</td>\n",
              "      <td>0</td>\n",
              "      <td>0</td>\n",
              "      <td>0</td>\n",
              "      <td>0</td>\n",
              "      <td>0</td>\n",
              "      <td>0</td>\n",
              "      <td>0</td>\n",
              "      <td>0</td>\n",
              "      <td>0</td>\n",
              "      <td>0</td>\n",
              "      <td>0</td>\n",
              "      <td>0</td>\n",
              "      <td>0</td>\n",
              "      <td>0</td>\n",
              "      <td>0</td>\n",
              "      <td>0</td>\n",
              "      <td>0</td>\n",
              "      <td>0</td>\n",
              "      <td>0</td>\n",
              "      <td>0</td>\n",
              "      <td>0</td>\n",
              "      <td>0</td>\n",
              "      <td>0</td>\n",
              "      <td>0</td>\n",
              "      <td>0</td>\n",
              "      <td>0</td>\n",
              "      <td>0</td>\n",
              "      <td>0</td>\n",
              "      <td>0</td>\n",
              "    </tr>\n",
              "    <tr>\n",
              "      <th>077-9</th>\n",
              "      <td>0</td>\n",
              "      <td>0</td>\n",
              "      <td>0</td>\n",
              "      <td>0</td>\n",
              "      <td>0</td>\n",
              "      <td>0</td>\n",
              "      <td>0</td>\n",
              "      <td>0</td>\n",
              "      <td>0</td>\n",
              "      <td>0</td>\n",
              "      <td>0</td>\n",
              "      <td>0</td>\n",
              "      <td>0</td>\n",
              "      <td>0</td>\n",
              "      <td>0</td>\n",
              "      <td>0</td>\n",
              "      <td>0</td>\n",
              "      <td>0</td>\n",
              "      <td>0</td>\n",
              "      <td>0</td>\n",
              "      <td>0</td>\n",
              "      <td>0</td>\n",
              "      <td>0</td>\n",
              "      <td>0</td>\n",
              "      <td>0</td>\n",
              "      <td>0</td>\n",
              "      <td>0</td>\n",
              "      <td>0</td>\n",
              "      <td>0</td>\n",
              "      <td>0</td>\n",
              "      <td>0</td>\n",
              "      <td>0</td>\n",
              "      <td>0</td>\n",
              "      <td>0</td>\n",
              "      <td>0</td>\n",
              "      <td>0</td>\n",
              "      <td>0</td>\n",
              "      <td>0</td>\n",
              "      <td>0</td>\n",
              "      <td>0</td>\n",
              "      <td>...</td>\n",
              "      <td>0</td>\n",
              "      <td>0</td>\n",
              "      <td>0</td>\n",
              "      <td>0</td>\n",
              "      <td>0</td>\n",
              "      <td>0</td>\n",
              "      <td>0</td>\n",
              "      <td>0</td>\n",
              "      <td>0</td>\n",
              "      <td>0</td>\n",
              "      <td>0</td>\n",
              "      <td>0</td>\n",
              "      <td>0</td>\n",
              "      <td>0</td>\n",
              "      <td>0</td>\n",
              "      <td>0</td>\n",
              "      <td>0</td>\n",
              "      <td>0</td>\n",
              "      <td>0</td>\n",
              "      <td>0</td>\n",
              "      <td>0</td>\n",
              "      <td>0</td>\n",
              "      <td>0</td>\n",
              "      <td>0</td>\n",
              "      <td>0</td>\n",
              "      <td>0</td>\n",
              "      <td>0</td>\n",
              "      <td>0</td>\n",
              "      <td>0</td>\n",
              "      <td>0</td>\n",
              "      <td>0</td>\n",
              "      <td>0</td>\n",
              "      <td>0</td>\n",
              "      <td>0</td>\n",
              "      <td>0</td>\n",
              "      <td>0</td>\n",
              "      <td>0</td>\n",
              "      <td>0</td>\n",
              "      <td>0</td>\n",
              "      <td>0</td>\n",
              "    </tr>\n",
              "    <tr>\n",
              "      <th>077-23</th>\n",
              "      <td>0</td>\n",
              "      <td>0</td>\n",
              "      <td>0</td>\n",
              "      <td>0</td>\n",
              "      <td>0</td>\n",
              "      <td>0</td>\n",
              "      <td>0</td>\n",
              "      <td>0</td>\n",
              "      <td>0</td>\n",
              "      <td>0</td>\n",
              "      <td>0</td>\n",
              "      <td>0</td>\n",
              "      <td>0</td>\n",
              "      <td>0</td>\n",
              "      <td>0</td>\n",
              "      <td>0</td>\n",
              "      <td>0</td>\n",
              "      <td>0</td>\n",
              "      <td>0</td>\n",
              "      <td>0</td>\n",
              "      <td>0</td>\n",
              "      <td>0</td>\n",
              "      <td>0</td>\n",
              "      <td>0</td>\n",
              "      <td>0</td>\n",
              "      <td>0</td>\n",
              "      <td>0</td>\n",
              "      <td>0</td>\n",
              "      <td>0</td>\n",
              "      <td>0</td>\n",
              "      <td>0</td>\n",
              "      <td>0</td>\n",
              "      <td>0</td>\n",
              "      <td>0</td>\n",
              "      <td>0</td>\n",
              "      <td>0</td>\n",
              "      <td>0</td>\n",
              "      <td>0</td>\n",
              "      <td>0</td>\n",
              "      <td>0</td>\n",
              "      <td>...</td>\n",
              "      <td>0</td>\n",
              "      <td>0</td>\n",
              "      <td>0</td>\n",
              "      <td>0</td>\n",
              "      <td>0</td>\n",
              "      <td>0</td>\n",
              "      <td>0</td>\n",
              "      <td>0</td>\n",
              "      <td>0</td>\n",
              "      <td>0</td>\n",
              "      <td>0</td>\n",
              "      <td>0</td>\n",
              "      <td>0</td>\n",
              "      <td>0</td>\n",
              "      <td>0</td>\n",
              "      <td>0</td>\n",
              "      <td>0</td>\n",
              "      <td>0</td>\n",
              "      <td>0</td>\n",
              "      <td>0</td>\n",
              "      <td>0</td>\n",
              "      <td>0</td>\n",
              "      <td>0</td>\n",
              "      <td>0</td>\n",
              "      <td>0</td>\n",
              "      <td>0</td>\n",
              "      <td>0</td>\n",
              "      <td>0</td>\n",
              "      <td>0</td>\n",
              "      <td>0</td>\n",
              "      <td>0</td>\n",
              "      <td>0</td>\n",
              "      <td>0</td>\n",
              "      <td>0</td>\n",
              "      <td>0</td>\n",
              "      <td>0</td>\n",
              "      <td>0</td>\n",
              "      <td>0</td>\n",
              "      <td>0</td>\n",
              "      <td>0</td>\n",
              "    </tr>\n",
              "    <tr>\n",
              "      <th>077-12</th>\n",
              "      <td>0</td>\n",
              "      <td>0</td>\n",
              "      <td>0</td>\n",
              "      <td>0</td>\n",
              "      <td>0</td>\n",
              "      <td>0</td>\n",
              "      <td>0</td>\n",
              "      <td>0</td>\n",
              "      <td>0</td>\n",
              "      <td>0</td>\n",
              "      <td>0</td>\n",
              "      <td>0</td>\n",
              "      <td>0</td>\n",
              "      <td>0</td>\n",
              "      <td>0</td>\n",
              "      <td>0</td>\n",
              "      <td>0</td>\n",
              "      <td>0</td>\n",
              "      <td>0</td>\n",
              "      <td>0</td>\n",
              "      <td>0</td>\n",
              "      <td>0</td>\n",
              "      <td>0</td>\n",
              "      <td>0</td>\n",
              "      <td>0</td>\n",
              "      <td>0</td>\n",
              "      <td>0</td>\n",
              "      <td>0</td>\n",
              "      <td>0</td>\n",
              "      <td>0</td>\n",
              "      <td>0</td>\n",
              "      <td>0</td>\n",
              "      <td>0</td>\n",
              "      <td>0</td>\n",
              "      <td>0</td>\n",
              "      <td>0</td>\n",
              "      <td>0</td>\n",
              "      <td>0</td>\n",
              "      <td>0</td>\n",
              "      <td>0</td>\n",
              "      <td>...</td>\n",
              "      <td>0</td>\n",
              "      <td>0</td>\n",
              "      <td>0</td>\n",
              "      <td>0</td>\n",
              "      <td>0</td>\n",
              "      <td>0</td>\n",
              "      <td>0</td>\n",
              "      <td>0</td>\n",
              "      <td>0</td>\n",
              "      <td>0</td>\n",
              "      <td>0</td>\n",
              "      <td>0</td>\n",
              "      <td>0</td>\n",
              "      <td>0</td>\n",
              "      <td>0</td>\n",
              "      <td>0</td>\n",
              "      <td>0</td>\n",
              "      <td>0</td>\n",
              "      <td>0</td>\n",
              "      <td>0</td>\n",
              "      <td>0</td>\n",
              "      <td>0</td>\n",
              "      <td>0</td>\n",
              "      <td>0</td>\n",
              "      <td>0</td>\n",
              "      <td>0</td>\n",
              "      <td>0</td>\n",
              "      <td>0</td>\n",
              "      <td>0</td>\n",
              "      <td>0</td>\n",
              "      <td>0</td>\n",
              "      <td>0</td>\n",
              "      <td>0</td>\n",
              "      <td>0</td>\n",
              "      <td>0</td>\n",
              "      <td>0</td>\n",
              "      <td>0</td>\n",
              "      <td>0</td>\n",
              "      <td>0</td>\n",
              "      <td>0</td>\n",
              "    </tr>\n",
              "    <tr>\n",
              "      <th>077-19</th>\n",
              "      <td>0</td>\n",
              "      <td>0</td>\n",
              "      <td>0</td>\n",
              "      <td>0</td>\n",
              "      <td>0</td>\n",
              "      <td>0</td>\n",
              "      <td>0</td>\n",
              "      <td>0</td>\n",
              "      <td>0</td>\n",
              "      <td>0</td>\n",
              "      <td>0</td>\n",
              "      <td>0</td>\n",
              "      <td>0</td>\n",
              "      <td>0</td>\n",
              "      <td>0</td>\n",
              "      <td>0</td>\n",
              "      <td>0</td>\n",
              "      <td>0</td>\n",
              "      <td>0</td>\n",
              "      <td>0</td>\n",
              "      <td>0</td>\n",
              "      <td>0</td>\n",
              "      <td>0</td>\n",
              "      <td>0</td>\n",
              "      <td>0</td>\n",
              "      <td>0</td>\n",
              "      <td>0</td>\n",
              "      <td>0</td>\n",
              "      <td>0</td>\n",
              "      <td>0</td>\n",
              "      <td>0</td>\n",
              "      <td>0</td>\n",
              "      <td>0</td>\n",
              "      <td>0</td>\n",
              "      <td>0</td>\n",
              "      <td>0</td>\n",
              "      <td>0</td>\n",
              "      <td>0</td>\n",
              "      <td>0</td>\n",
              "      <td>0</td>\n",
              "      <td>...</td>\n",
              "      <td>0</td>\n",
              "      <td>0</td>\n",
              "      <td>0</td>\n",
              "      <td>0</td>\n",
              "      <td>0</td>\n",
              "      <td>0</td>\n",
              "      <td>0</td>\n",
              "      <td>0</td>\n",
              "      <td>0</td>\n",
              "      <td>0</td>\n",
              "      <td>0</td>\n",
              "      <td>0</td>\n",
              "      <td>0</td>\n",
              "      <td>0</td>\n",
              "      <td>0</td>\n",
              "      <td>0</td>\n",
              "      <td>0</td>\n",
              "      <td>0</td>\n",
              "      <td>0</td>\n",
              "      <td>0</td>\n",
              "      <td>0</td>\n",
              "      <td>0</td>\n",
              "      <td>0</td>\n",
              "      <td>0</td>\n",
              "      <td>0</td>\n",
              "      <td>0</td>\n",
              "      <td>0</td>\n",
              "      <td>0</td>\n",
              "      <td>0</td>\n",
              "      <td>0</td>\n",
              "      <td>0</td>\n",
              "      <td>0</td>\n",
              "      <td>0</td>\n",
              "      <td>0</td>\n",
              "      <td>0</td>\n",
              "      <td>0</td>\n",
              "      <td>0</td>\n",
              "      <td>0</td>\n",
              "      <td>0</td>\n",
              "      <td>0</td>\n",
              "    </tr>\n",
              "  </tbody>\n",
              "</table>\n",
              "<p>5 rows × 422500 columns</p>\n",
              "</div>"
            ],
            "text/plain": [
              "        0       1       2       3       ...  422496  422497  422498  422499\n",
              "077-7        0       0       0       0  ...       0       0       0       0\n",
              "077-9        0       0       0       0  ...       0       0       0       0\n",
              "077-23       0       0       0       0  ...       0       0       0       0\n",
              "077-12       0       0       0       0  ...       0       0       0       0\n",
              "077-19       0       0       0       0  ...       0       0       0       0\n",
              "\n",
              "[5 rows x 422500 columns]"
            ]
          },
          "metadata": {
            "tags": []
          },
          "execution_count": 13
        }
      ]
    },
    {
      "cell_type": "code",
      "metadata": {
        "colab": {
          "base_uri": "https://localhost:8080/"
        },
        "id": "LDzKzpquF5f0",
        "outputId": "e04faa37-9516-40f7-925f-0d1b9709a66e"
      },
      "source": [
        "df_brain.shape"
      ],
      "execution_count": null,
      "outputs": [
        {
          "output_type": "execute_result",
          "data": {
            "text/plain": [
              "(2501, 422500)"
            ]
          },
          "metadata": {
            "tags": []
          },
          "execution_count": 14
        }
      ]
    },
    {
      "cell_type": "code",
      "metadata": {
        "colab": {
          "base_uri": "https://localhost:8080/",
          "height": 1000
        },
        "id": "JYHZuGK4EPWY",
        "outputId": "a819c615-7026-4fd0-cbcc-01302162c798"
      },
      "source": [
        "for index in range(5):\n",
        "  random_image = df_brain.sample().to_numpy().reshape(650,-1)\n",
        "  plt.title(f'Random image {index}')\n",
        "  plt.imshow(random_image, cmap='gray');\n",
        "  plt.show();"
      ],
      "execution_count": null,
      "outputs": [
        {
          "output_type": "display_data",
          "data": {
            "image/png": "[encoded data removed]",
            "text/plain": [
              "<Figure size 432x288 with 1 Axes>"
            ]
          },
          "metadata": {
            "tags": [],
            "needs_background": "light"
          }
        },
        {
          "output_type": "display_data",
          "data": {
            "image/png": "[encoded data removed]",
            "text/plain": [
              "<Figure size 432x288 with 1 Axes>"
            ]
          },
          "metadata": {
            "tags": [],
            "needs_background": "light"
          }
        },
        {
          "output_type": "display_data",
          "data": {
            "image/png": "[encoded data removed]",
            "text/plain": [
              "<Figure size 432x288 with 1 Axes>"
            ]
          },
          "metadata": {
            "tags": [],
            "needs_background": "light"
          }
        },
        {
          "output_type": "display_data",
          "data": {
            "image/png": "[encoded data removed]",
            "text/plain": [
              "<Figure size 432x288 with 1 Axes>"
            ]
          },
          "metadata": {
            "tags": [],
            "needs_background": "light"
          }
        },
        {
          "output_type": "display_data",
          "data": {
            "image/png": "[encoded data removed]",
            "text/plain": [
              "<Figure size 432x288 with 1 Axes>"
            ]
          },
          "metadata": {
            "tags": [],
            "needs_background": "light"
          }
        }
      ]
    },
    {
      "cell_type": "markdown",
      "metadata": {
        "id": "9BYLD7ZO5ihp"
      },
      "source": [
        "We can see that the index of our dataframe represents the indetifier of the patient and image and the columns represent each pixel of the image. The size of the images is 650x650 pixels, so it makes sense that we have 422,500 columns\n",
        "\n",
        "$ 650^2 = 422500 $"
      ]
    },
    {
      "cell_type": "markdown",
      "metadata": {
        "id": "V8-9cs595ihp"
      },
      "source": [
        "#### General summary statistics\n",
        "\n",
        "Let's start by analyzing df_patient"
      ]
    },
    {
      "cell_type": "code",
      "metadata": {
        "ExecuteTime": {
          "end_time": "2021-05-06T17:27:27.034917Z",
          "start_time": "2021-05-06T17:27:26.944071Z"
        },
        "colab": {
          "base_uri": "https://localhost:8080/",
          "height": 297
        },
        "id": "R-acduvS5ihp",
        "outputId": "2718413c-38e6-4496-99a3-f4324fbf6a03"
      },
      "source": [
        "df_patient.describe()"
      ],
      "execution_count": null,
      "outputs": [
        {
          "output_type": "execute_result",
          "data": {
            "text/html": [
              "<div>\n",
              "<style scoped>\n",
              "    .dataframe tbody tr th:only-of-type {\n",
              "        vertical-align: middle;\n",
              "    }\n",
              "\n",
              "    .dataframe tbody tr th {\n",
              "        vertical-align: top;\n",
              "    }\n",
              "\n",
              "    .dataframe thead th {\n",
              "        text-align: right;\n",
              "    }\n",
              "</style>\n",
              "<table border=\"1\" class=\"dataframe\">\n",
              "  <thead>\n",
              "    <tr style=\"text-align: right;\">\n",
              "      <th></th>\n",
              "      <th>Patient Number</th>\n",
              "      <th>Age\\n(years)</th>\n",
              "      <th>Intraventricular</th>\n",
              "      <th>Intraparenchymal</th>\n",
              "      <th>Subarachnoid</th>\n",
              "      <th>Epidural</th>\n",
              "      <th>Subdural</th>\n",
              "      <th>Fracture (Yes/No)</th>\n",
              "    </tr>\n",
              "  </thead>\n",
              "  <tbody>\n",
              "    <tr>\n",
              "      <th>count</th>\n",
              "      <td>82.000000</td>\n",
              "      <td>82.000000</td>\n",
              "      <td>5.0</td>\n",
              "      <td>16.0</td>\n",
              "      <td>7.0</td>\n",
              "      <td>21.0</td>\n",
              "      <td>4.0</td>\n",
              "      <td>22.0</td>\n",
              "    </tr>\n",
              "    <tr>\n",
              "      <th>mean</th>\n",
              "      <td>89.500000</td>\n",
              "      <td>27.843733</td>\n",
              "      <td>1.0</td>\n",
              "      <td>1.0</td>\n",
              "      <td>1.0</td>\n",
              "      <td>1.0</td>\n",
              "      <td>1.0</td>\n",
              "      <td>1.0</td>\n",
              "    </tr>\n",
              "    <tr>\n",
              "      <th>std</th>\n",
              "      <td>23.815261</td>\n",
              "      <td>19.520890</td>\n",
              "      <td>0.0</td>\n",
              "      <td>0.0</td>\n",
              "      <td>0.0</td>\n",
              "      <td>0.0</td>\n",
              "      <td>0.0</td>\n",
              "      <td>0.0</td>\n",
              "    </tr>\n",
              "    <tr>\n",
              "      <th>min</th>\n",
              "      <td>49.000000</td>\n",
              "      <td>0.002747</td>\n",
              "      <td>1.0</td>\n",
              "      <td>1.0</td>\n",
              "      <td>1.0</td>\n",
              "      <td>1.0</td>\n",
              "      <td>1.0</td>\n",
              "      <td>1.0</td>\n",
              "    </tr>\n",
              "    <tr>\n",
              "      <th>25%</th>\n",
              "      <td>69.250000</td>\n",
              "      <td>11.250000</td>\n",
              "      <td>1.0</td>\n",
              "      <td>1.0</td>\n",
              "      <td>1.0</td>\n",
              "      <td>1.0</td>\n",
              "      <td>1.0</td>\n",
              "      <td>1.0</td>\n",
              "    </tr>\n",
              "    <tr>\n",
              "      <th>50%</th>\n",
              "      <td>89.500000</td>\n",
              "      <td>26.000000</td>\n",
              "      <td>1.0</td>\n",
              "      <td>1.0</td>\n",
              "      <td>1.0</td>\n",
              "      <td>1.0</td>\n",
              "      <td>1.0</td>\n",
              "      <td>1.0</td>\n",
              "    </tr>\n",
              "    <tr>\n",
              "      <th>75%</th>\n",
              "      <td>109.750000</td>\n",
              "      <td>40.000000</td>\n",
              "      <td>1.0</td>\n",
              "      <td>1.0</td>\n",
              "      <td>1.0</td>\n",
              "      <td>1.0</td>\n",
              "      <td>1.0</td>\n",
              "      <td>1.0</td>\n",
              "    </tr>\n",
              "    <tr>\n",
              "      <th>max</th>\n",
              "      <td>130.000000</td>\n",
              "      <td>72.000000</td>\n",
              "      <td>1.0</td>\n",
              "      <td>1.0</td>\n",
              "      <td>1.0</td>\n",
              "      <td>1.0</td>\n",
              "      <td>1.0</td>\n",
              "      <td>1.0</td>\n",
              "    </tr>\n",
              "  </tbody>\n",
              "</table>\n",
              "</div>"
            ],
            "text/plain": [
              "       Patient Number  Age\\n(years)  ...  Subdural  Fracture (Yes/No)\n",
              "count       82.000000     82.000000  ...       4.0               22.0\n",
              "mean        89.500000     27.843733  ...       1.0                1.0\n",
              "std         23.815261     19.520890  ...       0.0                0.0\n",
              "min         49.000000      0.002747  ...       1.0                1.0\n",
              "25%         69.250000     11.250000  ...       1.0                1.0\n",
              "50%         89.500000     26.000000  ...       1.0                1.0\n",
              "75%        109.750000     40.000000  ...       1.0                1.0\n",
              "max        130.000000     72.000000  ...       1.0                1.0\n",
              "\n",
              "[8 rows x 8 columns]"
            ]
          },
          "metadata": {
            "tags": []
          },
          "execution_count": 16
        }
      ]
    },
    {
      "cell_type": "code",
      "metadata": {
        "ExecuteTime": {
          "end_time": "2021-05-06T17:27:27.064528Z",
          "start_time": "2021-05-06T17:27:27.036802Z"
        },
        "colab": {
          "base_uri": "https://localhost:8080/"
        },
        "id": "mzKWSRYZ5ihp",
        "outputId": "10a548c7-68d3-4b2b-fe02-15d10baadc64"
      },
      "source": [
        "df_patient.info()"
      ],
      "execution_count": null,
      "outputs": [
        {
          "output_type": "stream",
          "text": [
            "<class 'pandas.core.frame.DataFrame'>\n",
            "RangeIndex: 82 entries, 0 to 81\n",
            "Data columns (total 11 columns):\n",
            " #   Column             Non-Null Count  Dtype  \n",
            "---  ------             --------------  -----  \n",
            " 0   Patient Number     82 non-null     int64  \n",
            " 1   Age\n",
            "(years)        82 non-null     float64\n",
            " 2   Gender             82 non-null     object \n",
            " 3   Intraventricular   5 non-null      float64\n",
            " 4   Intraparenchymal   16 non-null     float64\n",
            " 5   Subarachnoid       7 non-null      float64\n",
            " 6   Epidural           21 non-null     float64\n",
            " 7   Subdural           4 non-null      float64\n",
            " 8   Fracture (Yes/No)  22 non-null     float64\n",
            " 9   Condition on file  82 non-null     object \n",
            " 10  Note               1 non-null      object \n",
            "dtypes: float64(7), int64(1), object(3)\n",
            "memory usage: 7.2+ KB\n"
          ],
          "name": "stdout"
        }
      ]
    },
    {
      "cell_type": "code",
      "metadata": {
        "ExecuteTime": {
          "end_time": "2021-05-06T17:27:27.083695Z",
          "start_time": "2021-05-06T17:27:27.066238Z"
        },
        "colab": {
          "base_uri": "https://localhost:8080/",
          "height": 173
        },
        "id": "iX7JK7zT5ihq",
        "outputId": "4676e08b-5eab-4647-9651-e7c8fd53fca8"
      },
      "source": [
        "df_patient.describe(include=['O'])"
      ],
      "execution_count": null,
      "outputs": [
        {
          "output_type": "execute_result",
          "data": {
            "text/html": [
              "<div>\n",
              "<style scoped>\n",
              "    .dataframe tbody tr th:only-of-type {\n",
              "        vertical-align: middle;\n",
              "    }\n",
              "\n",
              "    .dataframe tbody tr th {\n",
              "        vertical-align: top;\n",
              "    }\n",
              "\n",
              "    .dataframe thead th {\n",
              "        text-align: right;\n",
              "    }\n",
              "</style>\n",
              "<table border=\"1\" class=\"dataframe\">\n",
              "  <thead>\n",
              "    <tr style=\"text-align: right;\">\n",
              "      <th></th>\n",
              "      <th>Gender</th>\n",
              "      <th>Condition on file</th>\n",
              "      <th>Note</th>\n",
              "    </tr>\n",
              "  </thead>\n",
              "  <tbody>\n",
              "    <tr>\n",
              "      <th>count</th>\n",
              "      <td>82</td>\n",
              "      <td>82</td>\n",
              "      <td>1</td>\n",
              "    </tr>\n",
              "    <tr>\n",
              "      <th>unique</th>\n",
              "      <td>2</td>\n",
              "      <td>13</td>\n",
              "      <td>1</td>\n",
              "    </tr>\n",
              "    <tr>\n",
              "      <th>top</th>\n",
              "      <td>Male</td>\n",
              "      <td>Normal CT</td>\n",
              "      <td>Special case, CT scan was after about two week...</td>\n",
              "    </tr>\n",
              "    <tr>\n",
              "      <th>freq</th>\n",
              "      <td>46</td>\n",
              "      <td>47</td>\n",
              "      <td>1</td>\n",
              "    </tr>\n",
              "  </tbody>\n",
              "</table>\n",
              "</div>"
            ],
            "text/plain": [
              "       Gender  ...                                               Note\n",
              "count      82  ...                                                  1\n",
              "unique      2  ...                                                  1\n",
              "top      Male  ...  Special case, CT scan was after about two week...\n",
              "freq       46  ...                                                  1\n",
              "\n",
              "[4 rows x 3 columns]"
            ]
          },
          "metadata": {
            "tags": []
          },
          "execution_count": 18
        }
      ]
    },
    {
      "cell_type": "markdown",
      "metadata": {
        "id": "hz73zcit5ihq"
      },
      "source": [
        "Observations:\n",
        "\n",
        "* The average age of the sample is 28 years, and covers a range from 0 to 72 years.\n",
        "* The gender of the sample is balanced: 46 Male and 36 Female.\n",
        "* 57% of the sample has a Normal CT.\n",
        "\n",
        "We can see that when the patient does not present any condition of: Intraventricular, Intraparenchymal, Subarachnoid, Epidural, Subdural or Fracture (Yes / No), it is marked as Nan. A good option is to fillna these columns with the value 0. Also, only one patient has a comment in the Note column.\n",
        "\n",
        "Let's continue with the dataframe df_hemorrhage"
      ]
    },
    {
      "cell_type": "code",
      "metadata": {
        "ExecuteTime": {
          "end_time": "2021-05-06T17:27:27.120477Z",
          "start_time": "2021-05-06T17:27:27.086312Z"
        },
        "colab": {
          "base_uri": "https://localhost:8080/",
          "height": 297
        },
        "id": "mSHx07lT5ihq",
        "outputId": "09e02cdd-b7e8-42e4-9949-56952dd4a93b"
      },
      "source": [
        "df_hemorrhage.describe()"
      ],
      "execution_count": null,
      "outputs": [
        {
          "output_type": "execute_result",
          "data": {
            "text/html": [
              "<div>\n",
              "<style scoped>\n",
              "    .dataframe tbody tr th:only-of-type {\n",
              "        vertical-align: middle;\n",
              "    }\n",
              "\n",
              "    .dataframe tbody tr th {\n",
              "        vertical-align: top;\n",
              "    }\n",
              "\n",
              "    .dataframe thead th {\n",
              "        text-align: right;\n",
              "    }\n",
              "</style>\n",
              "<table border=\"1\" class=\"dataframe\">\n",
              "  <thead>\n",
              "    <tr style=\"text-align: right;\">\n",
              "      <th></th>\n",
              "      <th>PatientNumber</th>\n",
              "      <th>SliceNumber</th>\n",
              "      <th>Intraventricular</th>\n",
              "      <th>Intraparenchymal</th>\n",
              "      <th>Subarachnoid</th>\n",
              "      <th>Epidural</th>\n",
              "      <th>Subdural</th>\n",
              "      <th>No_Hemorrhage</th>\n",
              "      <th>Fracture_Yes_No</th>\n",
              "    </tr>\n",
              "  </thead>\n",
              "  <tbody>\n",
              "    <tr>\n",
              "      <th>count</th>\n",
              "      <td>2501.000000</td>\n",
              "      <td>2501.000000</td>\n",
              "      <td>2501.000000</td>\n",
              "      <td>2501.000000</td>\n",
              "      <td>2501.000000</td>\n",
              "      <td>2501.000000</td>\n",
              "      <td>2501.000000</td>\n",
              "      <td>2501.000000</td>\n",
              "      <td>2501.000000</td>\n",
              "    </tr>\n",
              "    <tr>\n",
              "      <th>mean</th>\n",
              "      <td>89.591363</td>\n",
              "      <td>15.909636</td>\n",
              "      <td>0.009596</td>\n",
              "      <td>0.029188</td>\n",
              "      <td>0.007197</td>\n",
              "      <td>0.069172</td>\n",
              "      <td>0.022391</td>\n",
              "      <td>0.872851</td>\n",
              "      <td>0.077969</td>\n",
              "    </tr>\n",
              "    <tr>\n",
              "      <th>std</th>\n",
              "      <td>23.762360</td>\n",
              "      <td>9.071176</td>\n",
              "      <td>0.097508</td>\n",
              "      <td>0.168368</td>\n",
              "      <td>0.084547</td>\n",
              "      <td>0.253798</td>\n",
              "      <td>0.147981</td>\n",
              "      <td>0.333207</td>\n",
              "      <td>0.268176</td>\n",
              "    </tr>\n",
              "    <tr>\n",
              "      <th>min</th>\n",
              "      <td>49.000000</td>\n",
              "      <td>1.000000</td>\n",
              "      <td>0.000000</td>\n",
              "      <td>0.000000</td>\n",
              "      <td>0.000000</td>\n",
              "      <td>0.000000</td>\n",
              "      <td>0.000000</td>\n",
              "      <td>0.000000</td>\n",
              "      <td>0.000000</td>\n",
              "    </tr>\n",
              "    <tr>\n",
              "      <th>25%</th>\n",
              "      <td>69.000000</td>\n",
              "      <td>8.000000</td>\n",
              "      <td>0.000000</td>\n",
              "      <td>0.000000</td>\n",
              "      <td>0.000000</td>\n",
              "      <td>0.000000</td>\n",
              "      <td>0.000000</td>\n",
              "      <td>1.000000</td>\n",
              "      <td>0.000000</td>\n",
              "    </tr>\n",
              "    <tr>\n",
              "      <th>50%</th>\n",
              "      <td>90.000000</td>\n",
              "      <td>16.000000</td>\n",
              "      <td>0.000000</td>\n",
              "      <td>0.000000</td>\n",
              "      <td>0.000000</td>\n",
              "      <td>0.000000</td>\n",
              "      <td>0.000000</td>\n",
              "      <td>1.000000</td>\n",
              "      <td>0.000000</td>\n",
              "    </tr>\n",
              "    <tr>\n",
              "      <th>75%</th>\n",
              "      <td>110.000000</td>\n",
              "      <td>23.000000</td>\n",
              "      <td>0.000000</td>\n",
              "      <td>0.000000</td>\n",
              "      <td>0.000000</td>\n",
              "      <td>0.000000</td>\n",
              "      <td>0.000000</td>\n",
              "      <td>1.000000</td>\n",
              "      <td>0.000000</td>\n",
              "    </tr>\n",
              "    <tr>\n",
              "      <th>max</th>\n",
              "      <td>130.000000</td>\n",
              "      <td>40.000000</td>\n",
              "      <td>1.000000</td>\n",
              "      <td>1.000000</td>\n",
              "      <td>1.000000</td>\n",
              "      <td>1.000000</td>\n",
              "      <td>1.000000</td>\n",
              "      <td>1.000000</td>\n",
              "      <td>1.000000</td>\n",
              "    </tr>\n",
              "  </tbody>\n",
              "</table>\n",
              "</div>"
            ],
            "text/plain": [
              "       PatientNumber  SliceNumber  ...  No_Hemorrhage  Fracture_Yes_No\n",
              "count    2501.000000  2501.000000  ...    2501.000000      2501.000000\n",
              "mean       89.591363    15.909636  ...       0.872851         0.077969\n",
              "std        23.762360     9.071176  ...       0.333207         0.268176\n",
              "min        49.000000     1.000000  ...       0.000000         0.000000\n",
              "25%        69.000000     8.000000  ...       1.000000         0.000000\n",
              "50%        90.000000    16.000000  ...       1.000000         0.000000\n",
              "75%       110.000000    23.000000  ...       1.000000         0.000000\n",
              "max       130.000000    40.000000  ...       1.000000         1.000000\n",
              "\n",
              "[8 rows x 9 columns]"
            ]
          },
          "metadata": {
            "tags": []
          },
          "execution_count": 19
        }
      ]
    },
    {
      "cell_type": "code",
      "metadata": {
        "ExecuteTime": {
          "end_time": "2021-05-06T17:27:27.134161Z",
          "start_time": "2021-05-06T17:27:27.123648Z"
        },
        "colab": {
          "base_uri": "https://localhost:8080/"
        },
        "id": "PnD8a1eQ5ihq",
        "outputId": "b1dba226-424d-49d9-a8f3-f2c7d2ad5fbd"
      },
      "source": [
        "df_hemorrhage.info()"
      ],
      "execution_count": null,
      "outputs": [
        {
          "output_type": "stream",
          "text": [
            "<class 'pandas.core.frame.DataFrame'>\n",
            "RangeIndex: 2501 entries, 0 to 2500\n",
            "Data columns (total 9 columns):\n",
            " #   Column            Non-Null Count  Dtype\n",
            "---  ------            --------------  -----\n",
            " 0   PatientNumber     2501 non-null   int64\n",
            " 1   SliceNumber       2501 non-null   int64\n",
            " 2   Intraventricular  2501 non-null   int64\n",
            " 3   Intraparenchymal  2501 non-null   int64\n",
            " 4   Subarachnoid      2501 non-null   int64\n",
            " 5   Epidural          2501 non-null   int64\n",
            " 6   Subdural          2501 non-null   int64\n",
            " 7   No_Hemorrhage     2501 non-null   int64\n",
            " 8   Fracture_Yes_No   2501 non-null   int64\n",
            "dtypes: int64(9)\n",
            "memory usage: 176.0 KB\n"
          ],
          "name": "stdout"
        }
      ]
    },
    {
      "cell_type": "markdown",
      "metadata": {
        "id": "u_1aA6vA5ihr"
      },
      "source": [
        "Observations:\n",
        "\n",
        "* 87% of patients are No_Hemorrhage.\n",
        "* The most common hemorrhage is Epidural (6%), followed by Intraparenchymal (2.9%).\n",
        "\n",
        "We can see that in this dataset it has no missing values.\n",
        "\n",
        "As we saw previously, the df_patient dataframe has several columns with missing values, below we can observe the% of null values in each one."
      ]
    },
    {
      "cell_type": "code",
      "metadata": {
        "ExecuteTime": {
          "end_time": "2021-05-06T17:27:27.142619Z",
          "start_time": "2021-05-06T17:27:27.137354Z"
        },
        "colab": {
          "base_uri": "https://localhost:8080/"
        },
        "id": "H5xVa6Ma5ihr",
        "outputId": "52d4c868-5186-4431-8371-b87abba5a647"
      },
      "source": [
        "check_missing(df_patient)"
      ],
      "execution_count": null,
      "outputs": [
        {
          "output_type": "stream",
          "text": [
            "Column Name   Number of Missing Values   Percentage of Total\n",
            "Intraventricular         77                     93.9 %\n",
            "Intraparenchymal         66                     80.49 %\n",
            "Subarachnoid             75                     91.46 %\n",
            "Epidural                 61                     74.39 %\n",
            "Subdural                 78                     95.12 %\n",
            "Fracture (Yes/No)        60                     73.17 %\n",
            "Note                     81                     98.78 %\n"
          ],
          "name": "stdout"
        }
      ]
    },
    {
      "cell_type": "markdown",
      "metadata": {
        "id": "_3KGYm-O5ihr"
      },
      "source": [
        "#### Some interesting plots"
      ]
    },
    {
      "cell_type": "code",
      "metadata": {
        "ExecuteTime": {
          "end_time": "2021-05-06T17:27:27.554817Z",
          "start_time": "2021-05-06T17:27:27.144659Z"
        },
        "colab": {
          "base_uri": "https://localhost:8080/",
          "height": 291
        },
        "id": "30mkWduY5ihr",
        "outputId": "e97f5d1d-91b1-4fd8-809b-c0e33e13d3a7"
      },
      "source": [
        "sns.kdeplot(data=df_patient, x=\"Age\\n(years)\", shade=True);"
      ],
      "execution_count": null,
      "outputs": [
        {
          "output_type": "display_data",
          "data": {
            "image/png": "[encoded data removed]",
            "text/plain": [
              "<Figure size 432x288 with 1 Axes>"
            ]
          },
          "metadata": {
            "tags": [],
            "needs_background": "light"
          }
        }
      ]
    },
    {
      "cell_type": "code",
      "metadata": {
        "ExecuteTime": {
          "end_time": "2021-05-06T17:27:28.218586Z",
          "start_time": "2021-05-06T17:27:27.556938Z"
        },
        "colab": {
          "base_uri": "https://localhost:8080/",
          "height": 348
        },
        "id": "BE-fZqO05ihr",
        "outputId": "db67ab4c-481f-4464-e4dc-720b8fb167e0"
      },
      "source": [
        "sns.heatmap(df_patient.drop(\"Patient Number\",axis=1).fillna(0).corr(), annot=True);"
      ],
      "execution_count": null,
      "outputs": [
        {
          "output_type": "display_data",
          "data": {
            "image/png": "[encoded data removed]",
            "text/plain": [
              "<Figure size 432x288 with 2 Axes>"
            ]
          },
          "metadata": {
            "tags": [],
            "needs_background": "light"
          }
        }
      ]
    },
    {
      "cell_type": "markdown",
      "metadata": {
        "id": "qV7V4ayJ5ihs"
      },
      "source": [
        "# 2. Model baseline building"
      ]
    },
    {
      "cell_type": "code",
      "metadata": {
        "ExecuteTime": {
          "end_time": "2021-05-06T17:27:28.896774Z",
          "start_time": "2021-05-06T17:27:28.227677Z"
        },
        "id": "rHLF19235ihs"
      },
      "source": [
        "from sklearn.metrics import confusion_matrix, accuracy_score, recall_score, \\\n",
        "                            precision_score, classification_report, f1_score\n",
        "from sklearn.model_selection import train_test_split"
      ],
      "execution_count": null,
      "outputs": []
    },
    {
      "cell_type": "markdown",
      "metadata": {
        "id": "ZgSEVdnv5ihs"
      },
      "source": [
        "## Splitting the Hemorrage_diagnosic dataset"
      ]
    },
    {
      "cell_type": "markdown",
      "metadata": {
        "id": "qV8zRhhx5iht"
      },
      "source": [
        "We have decided to first focus on predicting, based on our Hemorrage dataset, if the patients have (or not) a brain hemorrhage.  \n",
        "This is a **Classification** problem we are adressing."
      ]
    },
    {
      "cell_type": "markdown",
      "metadata": {
        "id": "t15ne6ct5iht"
      },
      "source": [
        "- Target (to predict): 'No_Hemorrhage'.\n",
        "- Features: our brain CT scans from all patients.  "
      ]
    },
    {
      "cell_type": "markdown",
      "metadata": {
        "id": "3jTM18fZ5iht"
      },
      "source": [
        "We will start by splitting the dataset in a Train (80%). and test sets (20%)."
      ]
    },
    {
      "cell_type": "markdown",
      "metadata": {
        "id": "nRMTJ6YJWJgN"
      },
      "source": [
        ""
      ]
    },
    {
      "cell_type": "code",
      "metadata": {
        "ExecuteTime": {
          "end_time": "2021-05-06T17:28:30.775956Z",
          "start_time": "2021-05-06T17:28:30.773648Z"
        },
        "id": "iYF9jV2G5iht"
      },
      "source": [
        "X = df_brain\n",
        "y = df_hemorrhage['No_Hemorrhage']"
      ],
      "execution_count": null,
      "outputs": []
    },
    {
      "cell_type": "markdown",
      "metadata": {
        "id": "O6yhki23eWzH"
      },
      "source": [
        "#Data Augmentaion"
      ]
    },
    {
      "cell_type": "code",
      "metadata": {
        "id": "ct8kFFoIeag8"
      },
      "source": [
        "from tensorflow.keras.preprocessing import image_dataset_from_directory\n",
        "from keras.preprocessing.image import ImageDataGenerator, array_to_img, img_to_array, load_img"
      ],
      "execution_count": null,
      "outputs": []
    },
    {
      "cell_type": "code",
      "metadata": {
        "id": "PghllLstbh5N"
      },
      "source": [
        "# creating folders\n",
        "!mkdir train\n",
        "!mkdir train/0 train/1\n",
        "!mkdir test\n",
        "!mkdir test/0 test/1"
      ],
      "execution_count": null,
      "outputs": []
    },
    {
      "cell_type": "code",
      "metadata": {
        "id": "Vuvp-p3OY7HF"
      },
      "source": [
        "#Saving images in 2 folders according to type for data augmentation\n",
        "for index in range(y.shape[0]):\n",
        "  if y[index] == 0:\n",
        "    new_img = X.iloc[index].to_numpy().reshape(650,-1)\n",
        "    cv2.imwrite(f\"train/{y[index]}/{index}.jpg\", new_img)\n",
        "  else:\n",
        "    new_img = X.iloc[index].to_numpy().reshape(650,-1)\n",
        "    cv2.imwrite(f\"train/{y[index]}/{index}.jpg\", new_img)\n",
        "    "
      ],
      "execution_count": null,
      "outputs": []
    },
    {
      "cell_type": "code",
      "metadata": {
        "id": "GDyGrrxwvPov"
      },
      "source": [
        "train_path_0 = r'train/0'\n",
        "train_path_1 = r'train/1'\n",
        "test_path_0 = r'test/0'\n",
        "test_path_1 = r'test/1'"
      ],
      "execution_count": null,
      "outputs": []
    },
    {
      "cell_type": "code",
      "metadata": {
        "id": "BK-kSjtZvAg_",
        "colab": {
          "base_uri": "https://localhost:8080/"
        },
        "outputId": "2fb9356f-32b4-491a-81df-7b4bc002664e"
      },
      "source": [
        "print(f\"Class 0 before aug: {len(os.listdir(train_path_0))}\")\n",
        "print(f\"Class 1 before aug: {len(os.listdir(train_path_1))}\")\n",
        "CLASS_0_SIZE = 318\n",
        "CLASS_1_SIZE = 2183"
      ],
      "execution_count": null,
      "outputs": [
        {
          "output_type": "stream",
          "text": [
            "Class 0 before aug: 318\n",
            "Class 1 before aug: 2183\n"
          ],
          "name": "stdout"
        }
      ]
    },
    {
      "cell_type": "code",
      "metadata": {
        "id": "R-R8ufXgmBhW"
      },
      "source": [
        "def image_aug(dir_aug_path, number_of_aug):\n",
        "  datagen = ImageDataGenerator(rotation_range=90)\n",
        "  for f in os.listdir(dir_aug_path):\n",
        "    img = load_img(dir_aug_path + '/' + f)  \n",
        "    x = img_to_array(img) \n",
        "    # Reshape the input image \n",
        "    x = x.reshape((1, ) + x.shape)  \n",
        "    i = 0\n",
        "\n",
        "    # generate new augmented images \n",
        "    for batch in datagen.flow(x, batch_size = 1, \n",
        "                              save_to_dir = dir_aug_path,  \n",
        "                              save_prefix ='aug', save_format ='jpg'):\n",
        "        i += 1\n",
        "        if i > number_of_aug-1: \n",
        "            break"
      ],
      "execution_count": null,
      "outputs": []
    },
    {
      "cell_type": "code",
      "metadata": {
        "id": "z2QDRFdsDcmx"
      },
      "source": [
        "import random\n",
        "size_of_test_0 = round(len(os.listdir(train_path_0))*0.2)\n",
        "size_of_train_0 = len(os.listdir(train_path_0)) - size_of_test_0\n",
        "test_list_0 = random.sample(os.listdir(train_path_0),size_of_test_0)\n",
        "size_of_test_1 = round(len(os.listdir(train_path_1))*0.2)\n",
        "size_of_train_1 = len(os.listdir(train_path_1)) - size_of_test_1\n",
        "test_list_1 = random.sample(os.listdir(train_path_1),size_of_test_1)\n",
        "for file_name in test_list_0:\n",
        "  os.rename('train/0/' + file_name, 'test/0/' + file_name)\n",
        "for file_name in test_list_1:\n",
        "  os.rename('train/1/' + file_name, 'test/1/' + file_name)"
      ],
      "execution_count": null,
      "outputs": []
    },
    {
      "cell_type": "code",
      "metadata": {
        "id": "836-Sjh2m3gW",
        "colab": {
          "base_uri": "https://localhost:8080/"
        },
        "outputId": "0f027972-6317-4208-af6c-acd59ff3a3c6"
      },
      "source": [
        "if len(os.listdir(train_path_0)) == size_of_train_0:\n",
        "  image_aug(train_path_0,20)\n",
        "if len(os.listdir(test_path_0)) == size_of_test_0:\n",
        "  image_aug(test_path_0,20)\n",
        "if len(os.listdir(train_path_1)) == size_of_train_1:\n",
        "  image_aug(train_path_1,2)\n",
        "if len(os.listdir(test_path_1)) == size_of_test_1:\n",
        "  image_aug(test_path_1,2)\n",
        "\n",
        "print(f\"Train 0 after aug: {len(os.listdir(train_path_0))}\")\n",
        "print(f\"Train 1 after aug: {len(os.listdir(train_path_1))}\")\n",
        "print(f\"Test 0 after aug: {len(os.listdir(test_path_0))}\")\n",
        "print(f\"Test 1 after aug: {len(os.listdir(test_path_1))}\")"
      ],
      "execution_count": null,
      "outputs": [
        {
          "output_type": "stream",
          "text": [
            "Train 0 after aug: 4238\n",
            "Train 1 after aug: 4657\n",
            "Test 0 after aug: 1273\n",
            "Test 1 after aug: 1282\n"
          ],
          "name": "stdout"
        }
      ]
    },
    {
      "cell_type": "code",
      "metadata": {
        "id": "HYwyeb0S6fSP"
      },
      "source": [
        ""
      ],
      "execution_count": null,
      "outputs": []
    },
    {
      "cell_type": "markdown",
      "metadata": {
        "id": "fKmwE9-UuA1E"
      },
      "source": [
        "#After Data Augmentation of images"
      ]
    },
    {
      "cell_type": "code",
      "metadata": {
        "ExecuteTime": {
          "end_time": "2021-05-06T17:28:32.195385Z",
          "start_time": "2021-05-06T17:28:32.192735Z"
        },
        "id": "RYB7B-sW5iht",
        "colab": {
          "base_uri": "https://localhost:8080/"
        },
        "outputId": "ef012e21-b7e6-4166-ced6-7a33fadf1c2a"
      },
      "source": [
        "print(f'Model Baseline :{y.sum() / len(y)}')"
      ],
      "execution_count": null,
      "outputs": [
        {
          "output_type": "stream",
          "text": [
            "Model Baseline :0.8728508596561375\n"
          ],
          "name": "stdout"
        }
      ]
    },
    {
      "cell_type": "code",
      "metadata": {
        "ExecuteTime": {
          "end_time": "2021-05-06T17:28:51.799645Z",
          "start_time": "2021-05-06T17:28:32.944234Z"
        },
        "scrolled": true,
        "id": "lS5nr5ZT5iht",
        "colab": {
          "base_uri": "https://localhost:8080/"
        },
        "outputId": "01b3f60e-9be9-4b59-adf3-ee97768bc0f6"
      },
      "source": [
        "X_train, X_test, y_train, y_test = train_test_split(X, y,\n",
        "                                                   random_state=42,\n",
        "                                                   test_size=0.2)\n",
        "\n",
        "print(f\"Train set: {len(X_train)/len(X):.2%}\")\n",
        "print(f\"Train set: {len(X_test)/len(X):.2%}\")"
      ],
      "execution_count": null,
      "outputs": [
        {
          "output_type": "stream",
          "text": [
            "Train set: 79.97%\n",
            "Train set: 20.03%\n"
          ],
          "name": "stdout"
        }
      ]
    },
    {
      "cell_type": "markdown",
      "metadata": {
        "id": "Yn8RgdXu5ihu"
      },
      "source": [
        "We will first apply a simple classification model: **Logistic Regression**."
      ]
    },
    {
      "cell_type": "markdown",
      "metadata": {
        "id": "0HU9_KeQ5ihu"
      },
      "source": [
        "We chose this model because it is known to work well for binary classification problems, and we will use it as our baseline.  \n",
        "We will later on also be able to tweak its hyperparameter, i.e. the threshold, to improve its performance."
      ]
    },
    {
      "cell_type": "code",
      "metadata": {
        "ExecuteTime": {
          "end_time": "2021-05-06T17:28:52.137437Z",
          "start_time": "2021-05-06T17:28:51.806937Z"
        },
        "id": "M6_kO5985ihu"
      },
      "source": [
        "# from sklearn.linear_model import LogisticRegression"
      ],
      "execution_count": null,
      "outputs": []
    },
    {
      "cell_type": "code",
      "metadata": {
        "ExecuteTime": {
          "end_time": "2021-05-06T17:35:02.737061Z",
          "start_time": "2021-05-06T17:28:52.140747Z"
        },
        "id": "Y75QkHw85ihu"
      },
      "source": [
        "# clf = LogisticRegression(solver='lbfgs', max_iter=1000)\n",
        "# clf.fit(X_train, y_train)"
      ],
      "execution_count": null,
      "outputs": []
    },
    {
      "cell_type": "code",
      "metadata": {
        "ExecuteTime": {
          "end_time": "2021-05-06T17:35:09.391795Z",
          "start_time": "2021-05-06T17:35:02.742869Z"
        },
        "id": "cWK-t8Ci5ihu"
      },
      "source": [
        "# y_pred = clf.predict(X_test)"
      ],
      "execution_count": null,
      "outputs": []
    },
    {
      "cell_type": "code",
      "metadata": {
        "ExecuteTime": {
          "end_time": "2021-05-06T17:35:09.414098Z",
          "start_time": "2021-05-06T17:35:09.394431Z"
        },
        "id": "1hHM3ZIS5ihv"
      },
      "source": [
        "# print(classification_report(y_test,y_pred))"
      ],
      "execution_count": null,
      "outputs": []
    },
    {
      "cell_type": "markdown",
      "metadata": {
        "id": "Tj31I0yE_465"
      },
      "source": [
        "# SGD"
      ]
    },
    {
      "cell_type": "code",
      "metadata": {
        "id": "_DP9IGEP_6mS"
      },
      "source": [
        "from sklearn.linear_model import SGDClassifier"
      ],
      "execution_count": null,
      "outputs": []
    },
    {
      "cell_type": "code",
      "metadata": {
        "id": "to60HznEABDY",
        "colab": {
          "base_uri": "https://localhost:8080/"
        },
        "outputId": "2dd85a7c-8d1c-480c-f5d1-fe064053051a"
      },
      "source": [
        "sgdc = SGDClassifier(max_iter=1000, tol=0.01)\n",
        "sgdc.fit(X_train, y_train)"
      ],
      "execution_count": null,
      "outputs": [
        {
          "output_type": "execute_result",
          "data": {
            "text/plain": [
              "SGDClassifier(alpha=0.0001, average=False, class_weight=None,\n",
              "              early_stopping=False, epsilon=0.1, eta0=0.0, fit_intercept=True,\n",
              "              l1_ratio=0.15, learning_rate='optimal', loss='hinge',\n",
              "              max_iter=1000, n_iter_no_change=5, n_jobs=None, penalty='l2',\n",
              "              power_t=0.5, random_state=None, shuffle=True, tol=0.01,\n",
              "              validation_fraction=0.1, verbose=0, warm_start=False)"
            ]
          },
          "metadata": {
            "tags": []
          },
          "execution_count": 39
        }
      ]
    },
    {
      "cell_type": "code",
      "metadata": {
        "id": "4ZJO5xRUAVas",
        "colab": {
          "base_uri": "https://localhost:8080/"
        },
        "outputId": "ad35a958-eaa4-440a-874f-356c5f9d5f56"
      },
      "source": [
        "score = sgdc.score(X_train, y_train)\n",
        "print(\"Training score: \", score)"
      ],
      "execution_count": null,
      "outputs": [
        {
          "output_type": "stream",
          "text": [
            "Training score:  0.9885\n"
          ],
          "name": "stdout"
        }
      ]
    },
    {
      "cell_type": "code",
      "metadata": {
        "id": "wfgiigIkAkt0",
        "colab": {
          "base_uri": "https://localhost:8080/"
        },
        "outputId": "4f89f291-a084-477b-c10b-b740d4747d91"
      },
      "source": [
        "y_pred_SGD = sgdc.predict(X_test)\n",
        "print(classification_report(y_test, y_pred_SGD))"
      ],
      "execution_count": null,
      "outputs": [
        {
          "output_type": "stream",
          "text": [
            "              precision    recall  f1-score   support\n",
            "\n",
            "           0       0.35      0.40      0.37        62\n",
            "           1       0.91      0.89      0.90       439\n",
            "\n",
            "    accuracy                           0.83       501\n",
            "   macro avg       0.63      0.65      0.64       501\n",
            "weighted avg       0.84      0.83      0.84       501\n",
            "\n"
          ],
          "name": "stdout"
        }
      ]
    },
    {
      "cell_type": "markdown",
      "metadata": {
        "id": "8nB0hDNDVnhb"
      },
      "source": [
        "# CNN"
      ]
    },
    {
      "cell_type": "code",
      "metadata": {
        "id": "97m0-M0YXbtg"
      },
      "source": [
        "img_gen = ImageDataGenerator(validation_split=0.2)"
      ],
      "execution_count": null,
      "outputs": []
    },
    {
      "cell_type": "code",
      "metadata": {
        "colab": {
          "base_uri": "https://localhost:8080/"
        },
        "id": "rQRAFvbgWv8f",
        "outputId": "f1d17315-0d6f-4e74-af49-2c16ef7c4b9c"
      },
      "source": [
        "train_data = img_gen.flow_from_directory('train/', \n",
        "                                         class_mode= 'binary', \n",
        "                                         batch_size= 64, \n",
        "                                         target_size=(224, 224), \n",
        "                                         subset= 'training',\n",
        "                                         color_mode= 'grayscale')"
      ],
      "execution_count": null,
      "outputs": [
        {
          "output_type": "stream",
          "text": [
            "Found 7117 images belonging to 2 classes.\n"
          ],
          "name": "stdout"
        }
      ]
    },
    {
      "cell_type": "code",
      "metadata": {
        "colab": {
          "base_uri": "https://localhost:8080/"
        },
        "id": "PUkOVziiXbDV",
        "outputId": "9aa7bde8-2967-4369-ea64-ff135de39a17"
      },
      "source": [
        "valid_data = img_gen.flow_from_directory('train/', \n",
        "                                         class_mode= 'binary', \n",
        "                                         batch_size= 64, \n",
        "                                         target_size=(224, 224), \n",
        "                                         subset= 'validation',\n",
        "                                         color_mode= 'grayscale')"
      ],
      "execution_count": null,
      "outputs": [
        {
          "output_type": "stream",
          "text": [
            "Found 1778 images belonging to 2 classes.\n"
          ],
          "name": "stdout"
        }
      ]
    },
    {
      "cell_type": "code",
      "metadata": {
        "id": "buiQuMjPVa9T"
      },
      "source": [
        "from tensorflow.keras.layers import Dense\n",
        "from tensorflow.keras.layers import Conv2D\n",
        "from tensorflow.keras.layers import MaxPool2D\n",
        "from tensorflow.keras.layers import Flatten\n",
        "from tensorflow.keras.models import Sequential\n",
        "from tensorflow.keras.layers.experimental.preprocessing import Rescaling\n",
        "from tensorflow.keras.callbacks import EarlyStopping"
      ],
      "execution_count": null,
      "outputs": []
    },
    {
      "cell_type": "code",
      "metadata": {
        "id": "VNOXJ7uwVqL0"
      },
      "source": [
        "inp = Rescaling(1/255, input_shape=(224,224,1))\n",
        "conv_layer = Conv2D(64, 3, activation='relu')\n",
        "conv_layer2 = Conv2D(64, 3, activation='relu')\n",
        "conv_layer3 = Conv2D(64, 3, activation='relu')\n",
        "pool_layer = MaxPool2D()\n",
        "pool_layer2 = MaxPool2D()\n",
        "pool_layer3 = MaxPool2D()\n",
        "flat_layer = Flatten()\n",
        "dense_layer = Dense(64, activation='relu')\n",
        "last_layer = Dense(1, activation='sigmoid')\n",
        "model = Sequential([inp, conv_layer, pool_layer, conv_layer2, pool_layer2, \n",
        "                    conv_layer3, pool_layer3, flat_layer, last_layer])"
      ],
      "execution_count": null,
      "outputs": []
    },
    {
      "cell_type": "code",
      "metadata": {
        "id": "azQ_ogL6X24K"
      },
      "source": [
        "model.compile(optimizer='adam', loss='binary_crossentropy', metrics=['accuracy'])\n",
        "callback = EarlyStopping(monitor='val_loss', patience=10, restore_best_weights=True)"
      ],
      "execution_count": null,
      "outputs": []
    },
    {
      "cell_type": "code",
      "metadata": {
        "colab": {
          "base_uri": "https://localhost:8080/"
        },
        "id": "CN4k6WyqYUSt",
        "outputId": "fc5d8fd2-f3ae-492d-a191-69cbedceb982"
      },
      "source": [
        "history = model.fit(train_data, epochs=200, steps_per_epoch=len(train_data), validation_data=valid_data, validation_steps=len(valid_data), callbacks=[callback])"
      ],
      "execution_count": null,
      "outputs": [
        {
          "output_type": "stream",
          "text": [
            "Epoch 1/200\n",
            "112/112 [==============================] - 60s 529ms/step - loss: 0.6699 - accuracy: 0.5710 - val_loss: 0.5804 - val_accuracy: 0.7413\n",
            "Epoch 2/200\n",
            "112/112 [==============================] - 58s 514ms/step - loss: 0.6113 - accuracy: 0.6581 - val_loss: 0.6160 - val_accuracy: 0.6952\n",
            "Epoch 3/200\n",
            "112/112 [==============================] - 58s 515ms/step - loss: 0.5432 - accuracy: 0.7173 - val_loss: 0.5674 - val_accuracy: 0.7267\n",
            "Epoch 4/200\n",
            "112/112 [==============================] - 58s 520ms/step - loss: 0.4762 - accuracy: 0.7610 - val_loss: 0.6355 - val_accuracy: 0.6991\n",
            "Epoch 5/200\n",
            "112/112 [==============================] - 58s 518ms/step - loss: 0.4017 - accuracy: 0.8086 - val_loss: 0.6229 - val_accuracy: 0.7227\n",
            "Epoch 6/200\n",
            "112/112 [==============================] - 58s 514ms/step - loss: 0.3198 - accuracy: 0.8623 - val_loss: 0.6651 - val_accuracy: 0.7373\n",
            "Epoch 7/200\n",
            "112/112 [==============================] - 58s 515ms/step - loss: 0.2624 - accuracy: 0.8857 - val_loss: 0.8560 - val_accuracy: 0.7531\n",
            "Epoch 8/200\n",
            "112/112 [==============================] - 58s 520ms/step - loss: 0.2015 - accuracy: 0.9184 - val_loss: 0.8228 - val_accuracy: 0.7435\n",
            "Epoch 9/200\n",
            "112/112 [==============================] - 58s 520ms/step - loss: 0.1576 - accuracy: 0.9402 - val_loss: 0.8698 - val_accuracy: 0.7447\n",
            "Epoch 10/200\n",
            "112/112 [==============================] - 58s 521ms/step - loss: 0.1181 - accuracy: 0.9568 - val_loss: 1.0813 - val_accuracy: 0.7430\n",
            "Epoch 11/200\n",
            "112/112 [==============================] - 59s 525ms/step - loss: 0.1106 - accuracy: 0.9610 - val_loss: 1.1874 - val_accuracy: 0.7278\n",
            "Epoch 12/200\n",
            "112/112 [==============================] - 59s 528ms/step - loss: 0.0782 - accuracy: 0.9711 - val_loss: 1.2993 - val_accuracy: 0.7261\n",
            "Epoch 13/200\n",
            "112/112 [==============================] - 58s 517ms/step - loss: 0.0510 - accuracy: 0.9833 - val_loss: 1.5655 - val_accuracy: 0.7295\n"
          ],
          "name": "stdout"
        }
      ]
    },
    {
      "cell_type": "code",
      "metadata": {
        "id": "RmBXv9eHJB8T",
        "colab": {
          "base_uri": "https://localhost:8080/",
          "height": 181
        },
        "outputId": "f4309d21-807e-4f3b-fdbf-cdc0f5b530bf"
      },
      "source": [
        "test_data = img_gen.flow_from_directory(directory=r\"./test/\", class_mode=None, batch_size=64, target_size=(224, 224), shuffle=False, color_mode= 'grayscale')"
      ],
      "execution_count": 1,
      "outputs": [
        {
          "output_type": "error",
          "ename": "NameError",
          "evalue": "ignored",
          "traceback": [
            "\u001b[0;31m---------------------------------------------------------------------------\u001b[0m",
            "\u001b[0;31mNameError\u001b[0m                                 Traceback (most recent call last)",
            "\u001b[0;32m<ipython-input-1-42d4155c8c6a>\u001b[0m in \u001b[0;36m<module>\u001b[0;34m()\u001b[0m\n\u001b[0;32m----> 1\u001b[0;31m \u001b[0mtest_data\u001b[0m \u001b[0;34m=\u001b[0m \u001b[0mimg_gen\u001b[0m\u001b[0;34m.\u001b[0m\u001b[0mflow_from_directory\u001b[0m\u001b[0;34m(\u001b[0m\u001b[0mdirectory\u001b[0m\u001b[0;34m=\u001b[0m\u001b[0;34mr\"./test/\"\u001b[0m\u001b[0;34m,\u001b[0m \u001b[0mclass_mode\u001b[0m\u001b[0;34m=\u001b[0m\u001b[0;32mNone\u001b[0m\u001b[0;34m,\u001b[0m \u001b[0mbatch_size\u001b[0m\u001b[0;34m=\u001b[0m\u001b[0;36m64\u001b[0m\u001b[0;34m,\u001b[0m \u001b[0mtarget_size\u001b[0m\u001b[0;34m=\u001b[0m\u001b[0;34m(\u001b[0m\u001b[0;36m224\u001b[0m\u001b[0;34m,\u001b[0m \u001b[0;36m224\u001b[0m\u001b[0;34m)\u001b[0m\u001b[0;34m,\u001b[0m \u001b[0mshuffle\u001b[0m\u001b[0;34m=\u001b[0m\u001b[0;32mFalse\u001b[0m\u001b[0;34m,\u001b[0m \u001b[0mcolor_mode\u001b[0m\u001b[0;34m=\u001b[0m \u001b[0;34m'grayscale'\u001b[0m\u001b[0;34m)\u001b[0m\u001b[0;34m\u001b[0m\u001b[0;34m\u001b[0m\u001b[0m\n\u001b[0m",
            "\u001b[0;31mNameError\u001b[0m: name 'img_gen' is not defined"
          ]
        }
      ]
    },
    {
      "cell_type": "code",
      "metadata": {
        "id": "MzJVTmXxJYLK"
      },
      "source": [
        "pred = model.predict(test_data)"
      ],
      "execution_count": null,
      "outputs": []
    },
    {
      "cell_type": "markdown",
      "metadata": {
        "id": "ueAX9UuZ5ihv"
      },
      "source": [
        "First conclusions of the Logistic Regression performance: \n",
        "- We have got an accuracy of `95%`, which is above the baseline of `87%` which is very good, however we can see that the **recall** and the **percision** for class `0` are around `80%` and we should try to improve them with a better model or more preprocessing. "
      ]
    },
    {
      "cell_type": "markdown",
      "metadata": {
        "id": "ebO8vlGZ5ihv"
      },
      "source": [
        "This gives us a good start and makes us confident in being able to model and predict brain hemorrhage from CT scan images."
      ]
    },
    {
      "cell_type": "markdown",
      "metadata": {
        "id": "Y5qqtAnq5ihv"
      },
      "source": [
        "# 3. Next steps"
      ]
    },
    {
      "cell_type": "markdown",
      "metadata": {
        "id": "ZiyBnxUx5ihv"
      },
      "source": [
        "### Comments"
      ]
    },
    {
      "cell_type": "markdown",
      "metadata": {
        "id": "qyc2GFmj5ihw"
      },
      "source": [
        "- At this stage we did not use bone images, which could allow us to predict another target: \n",
        "- At this stage we did not use patient demographics. which might also give us a few good features on each patient.\n",
        "\n"
      ]
    },
    {
      "cell_type": "markdown",
      "metadata": {
        "id": "Kr4lBkDG5ihw"
      },
      "source": [
        "### Main next steps"
      ]
    },
    {
      "cell_type": "markdown",
      "metadata": {
        "id": "wK3i-VuP5ihw"
      },
      "source": [
        "#### A) Build a model to detect intracranial hemorrhages. (0/1)"
      ]
    },
    {
      "cell_type": "markdown",
      "metadata": {
        "id": "id_-nr1V5ihw"
      },
      "source": [
        "- Deal with very high dimensionality of our dataframes (>40 000 features due to image pixelisation). Options: image resizing, dimensionality reduction methods (e.g. PCA)\n",
        "- Apply other classification ML models on the Hemorrhage classification.\n",
        "- Apply deeplearning (e.g. CNN) with an optimized set of hyperparameters to process the images and increase model performance.\n",
        "- Join and use data from the \"demographics.csv\" file to feed our model.\n"
      ]
    },
    {
      "cell_type": "markdown",
      "metadata": {
        "id": "qoPYYCd85ihw"
      },
      "source": [
        "#### B) Build a model to segment hemorrhages per type"
      ]
    },
    {
      "cell_type": "markdown",
      "metadata": {
        "id": "NtI3acnW5ihw"
      },
      "source": [
        "Hemorrhages exist in different types: Intraventricular, Intraparenchymal, Subarachnoid, Epidural and Subdural.  \n",
        "- Build a model to try to classify in the right category. Multi-label classification problem."
      ]
    },
    {
      "cell_type": "markdown",
      "metadata": {
        "id": "nsZfzxBb5ihx"
      },
      "source": [
        "### Possible extra next steps: "
      ]
    },
    {
      "cell_type": "markdown",
      "metadata": {
        "id": "Uix8yiQP5ihx"
      },
      "source": [
        "- Build an API to automate the diagnosis of intracranial hemorrhages by providing the API pictures and receiving back the classification (single or multi-label).\n",
        "- Build a model to identify a brain fracture from a CT scan."
      ]
    }
  ]
}